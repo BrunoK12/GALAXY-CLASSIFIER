{
 "cells": [
  {
   "cell_type": "code",
   "execution_count": 1,
   "id": "02432098-9b25-4af1-bbbb-153c45e893ea",
   "metadata": {},
   "outputs": [],
   "source": [
    "import os\n",
    "import shutil\n",
    "import pandas as pd"
   ]
  },
  {
   "cell_type": "code",
   "execution_count": 12,
   "id": "7a456fe0-7c78-4e02-8544-a56f0f18f0b9",
   "metadata": {},
   "outputs": [
    {
     "data": {
      "text/html": [
       "<div>\n",
       "<style scoped>\n",
       "    .dataframe tbody tr th:only-of-type {\n",
       "        vertical-align: middle;\n",
       "    }\n",
       "\n",
       "    .dataframe tbody tr th {\n",
       "        vertical-align: top;\n",
       "    }\n",
       "\n",
       "    .dataframe thead th {\n",
       "        text-align: right;\n",
       "    }\n",
       "</style>\n",
       "<table border=\"1\" class=\"dataframe\">\n",
       "  <thead>\n",
       "    <tr style=\"text-align: right;\">\n",
       "      <th></th>\n",
       "      <th>GalaxyID</th>\n",
       "      <th>class</th>\n",
       "    </tr>\n",
       "  </thead>\n",
       "  <tbody>\n",
       "    <tr>\n",
       "      <th>0</th>\n",
       "      <td>100008</td>\n",
       "      <td>sphere</td>\n",
       "    </tr>\n",
       "    <tr>\n",
       "      <th>1</th>\n",
       "      <td>100078</td>\n",
       "      <td>sphere</td>\n",
       "    </tr>\n",
       "    <tr>\n",
       "      <th>2</th>\n",
       "      <td>100090</td>\n",
       "      <td>sphere</td>\n",
       "    </tr>\n",
       "    <tr>\n",
       "      <th>3</th>\n",
       "      <td>100122</td>\n",
       "      <td>elliptical</td>\n",
       "    </tr>\n",
       "    <tr>\n",
       "      <th>4</th>\n",
       "      <td>100123</td>\n",
       "      <td>sphere</td>\n",
       "    </tr>\n",
       "    <tr>\n",
       "      <th>...</th>\n",
       "      <td>...</td>\n",
       "      <td>...</td>\n",
       "    </tr>\n",
       "    <tr>\n",
       "      <th>43210</th>\n",
       "      <td>999936</td>\n",
       "      <td>elliptical</td>\n",
       "    </tr>\n",
       "    <tr>\n",
       "      <th>43211</th>\n",
       "      <td>999950</td>\n",
       "      <td>elliptical</td>\n",
       "    </tr>\n",
       "    <tr>\n",
       "      <th>43212</th>\n",
       "      <td>999958</td>\n",
       "      <td>elliptical</td>\n",
       "    </tr>\n",
       "    <tr>\n",
       "      <th>43213</th>\n",
       "      <td>999964</td>\n",
       "      <td>espiral</td>\n",
       "    </tr>\n",
       "    <tr>\n",
       "      <th>43214</th>\n",
       "      <td>999967</td>\n",
       "      <td>elliptical</td>\n",
       "    </tr>\n",
       "  </tbody>\n",
       "</table>\n",
       "<p>43215 rows × 2 columns</p>\n",
       "</div>"
      ],
      "text/plain": [
       "       GalaxyID       class\n",
       "0        100008      sphere\n",
       "1        100078      sphere\n",
       "2        100090      sphere\n",
       "3        100122  elliptical\n",
       "4        100123      sphere\n",
       "...         ...         ...\n",
       "43210    999936  elliptical\n",
       "43211    999950  elliptical\n",
       "43212    999958  elliptical\n",
       "43213    999964     espiral\n",
       "43214    999967  elliptical\n",
       "\n",
       "[43215 rows x 2 columns]"
      ]
     },
     "execution_count": 12,
     "metadata": {},
     "output_type": "execute_result"
    }
   ],
   "source": [
    "csv_path = \"prob.csv\"  \n",
    "image_folder = r\"C:\\Users\\PC\\OneDrive\\Escritorio\\PUCP\\2025-0\\DEEP LEARNING\\PROYECTO\\images_training_rev1\\images_training_rev1\"  \n",
    "output_folder = \"training_set\"  \n",
    "\n",
    "df = pd.read_csv(csv_path)  # Leer CSV\n",
    "df = df.dropna(subset=[\"class\"])  # Asegurar que no haya NaN en la columna \"class\"\n",
    "df"
   ]
  },
  {
   "cell_type": "code",
   "execution_count": 10,
   "id": "9dbb10c3-c3e4-4eab-9ada-3b075757ba32",
   "metadata": {},
   "outputs": [
    {
     "name": "stdout",
     "output_type": "stream",
     "text": [
      "✅ Organización de imágenes completada.\n"
     ]
    }
   ],
   "source": [
    "categories = [\"elliptical\", \"espiral\", \"sphere\", \"irregular\"]\n",
    "for category in categories:\n",
    "    os.makedirs(os.path.join(output_folder, category), exist_ok=True)\n",
    "\n",
    "for _, row in df.iterrows():\n",
    "    image_id = str(row[\"GalaxyID\"])\n",
    "    category = row[\"class\"]  \n",
    "    \n",
    "    source_path = os.path.join(image_folder, image_id + \".jpg\")\n",
    "    destination_path = os.path.join(output_folder, category, image_id + \".jpg\")\n",
    "    \n",
    "    # Mover archivo si existe\n",
    "    if os.path.exists(source_path):\n",
    "        shutil.move(source_path, destination_path)\n",
    "    else:\n",
    "        print(f\" Imagen no encontrada: {source_path}\") \n",
    "print(\"✅ Organización de imágenes completada.\")\n"
   ]
  },
  {
   "cell_type": "code",
   "execution_count": 11,
   "id": "82e25e08-bc6e-44eb-83cc-1de1ec41c992",
   "metadata": {},
   "outputs": [
    {
     "data": {
      "text/plain": [
       "43215"
      ]
     },
     "execution_count": 11,
     "metadata": {},
     "output_type": "execute_result"
    }
   ],
   "source": [
    "15109 + 8314 + 2497 + 17295"
   ]
  },
  {
   "cell_type": "markdown",
   "id": "729a7ca6-0e5b-4c6c-b756-6940be48a1da",
   "metadata": {},
   "source": [
    "registros totales:  61578\n",
    "registros 'espirales':  8314\n",
    "registros 'sphere':  17295\n",
    "registros 'elliptical':  15109\n",
    "registros 'irregular':  2497\n",
    "registros asignados:  43215\n",
    "registros faltantes:  18363"
   ]
  },
  {
   "cell_type": "code",
   "execution_count": 15,
   "id": "3c7f361a-530a-4355-99fb-7a6566d403e9",
   "metadata": {},
   "outputs": [
    {
     "name": "stdout",
     "output_type": "stream",
     "text": [
      "SE NECESITAN  2186  IMAGENES DE GALAXIAS ELIPTICAS\n",
      "SE NECESITAN  8981  IMAGENES DE GALAXIAS ESPIRALES\n",
      "SE NECESITAN  14798  IMAGENES DE GALAXIAS IRREGULARES\n"
     ]
    }
   ],
   "source": [
    "print(\"SE NECESITAN \",17295 - 15109,\" IMAGENES DE GALAXIAS ELIPTICAS\")\n",
    "print(\"SE NECESITAN \",17295 - 8314,\" IMAGENES DE GALAXIAS ESPIRALES\")\n",
    "print(\"SE NECESITAN \",17295 - 2497,\" IMAGENES DE GALAXIAS IRREGULARES\")"
   ]
  },
  {
   "cell_type": "code",
   "execution_count": 16,
   "id": "482f5939-d325-4829-9d99-632b6337adde",
   "metadata": {},
   "outputs": [
    {
     "data": {
      "text/plain": [
       "69180"
      ]
     },
     "execution_count": 16,
     "metadata": {},
     "output_type": "execute_result"
    }
   ],
   "source": [
    "17295*4"
   ]
  },
  {
   "cell_type": "markdown",
   "id": "76764a73-6981-414d-9e69-855dad3b1ca2",
   "metadata": {},
   "source": [
    "## Posterior al Data Augmentation, TRAIN VALID Y TEST"
   ]
  },
  {
   "cell_type": "code",
   "execution_count": 1,
   "id": "e69aaabf-f2db-4217-a7c9-3c6b8acc22d5",
   "metadata": {},
   "outputs": [],
   "source": [
    "import os\n",
    "import shutil\n",
    "import random"
   ]
  },
  {
   "cell_type": "code",
   "execution_count": 4,
   "id": "f05f8067-ad95-49e0-9779-c6bf35cdd324",
   "metadata": {},
   "outputs": [
    {
     "data": {
      "text/plain": [
       "['elliptical', 'espiral', 'irregular', 'sphere']"
      ]
     },
     "execution_count": 4,
     "metadata": {},
     "output_type": "execute_result"
    }
   ],
   "source": [
    "base_dir = r\"C:\\Users\\PC\\OneDrive\\Escritorio\\PUCP\\2025-0\\DEEP LEARNING\\PROYECTO\\MODELO\\Galaxy Classifier master\\training_set\"\n",
    "output_dirs = [\"train\", \"valid\", \"test\"]\n",
    "for folder in output_dirs:\n",
    "    os.makedirs(folder, exist_ok=True)\n",
    "categories = [d for d in os.listdir(base_dir) if os.path.isdir(os.path.join(base_dir, d))]\n",
    "categories"
   ]
  },
  {
   "cell_type": "code",
   "execution_count": 5,
   "id": "45d55398-0855-42fd-bcae-997fa2b4a055",
   "metadata": {},
   "outputs": [
    {
     "name": "stdout",
     "output_type": "stream",
     "text": [
      "elliptical: 12106 en train, 2594 en valid, 2595 en test.\n",
      "espiral: 12106 en train, 2594 en valid, 2595 en test.\n",
      "irregular: 12106 en train, 2594 en valid, 2595 en test.\n",
      "sphere: 12106 en train, 2594 en valid, 2595 en test.\n",
      "✅ Distribución completada.\n"
     ]
    }
   ],
   "source": [
    "# Recorre cada categoría (clase de galaxia)\n",
    "for category in categories:\n",
    "    category_path = os.path.join(base_dir, category)\n",
    "    images = os.listdir(category_path)\n",
    "\n",
    "    # Mezclar imágenes aleatoriamente\n",
    "    random.shuffle(images)\n",
    "\n",
    "    # Definir tamaños de cada conjunto\n",
    "    total_images = len(images)\n",
    "    train_count = int(0.70 * total_images)\n",
    "    valid_count = int(0.15 * total_images)\n",
    "\n",
    "    train_images = images[:train_count]\n",
    "    valid_images = images[train_count:train_count + valid_count]\n",
    "    test_images = images[train_count + valid_count:]\n",
    "\n",
    "    # Crear carpetas de categorías en train, valid, test\n",
    "    for folder in output_dirs:\n",
    "        os.makedirs(os.path.join(folder, category), exist_ok=True)\n",
    "\n",
    "    # Función para mover imágenes\n",
    "    def move_images(image_list, dest_folder):\n",
    "        for img in image_list:\n",
    "            src_path = os.path.join(category_path, img)\n",
    "            dst_path = os.path.join(dest_folder, category, img)\n",
    "            shutil.move(src_path, dst_path)\n",
    "\n",
    "    # Mover imágenes\n",
    "    move_images(train_images, \"train\")\n",
    "    move_images(valid_images, \"valid\")\n",
    "    move_images(test_images, \"test\")\n",
    "\n",
    "    print(f\"{category}: {len(train_images)} en train, {len(valid_images)} en valid, {len(test_images)} en test.\")\n",
    "\n",
    "print(\"✅ Distribución completada.\")\n"
   ]
  },
  {
   "cell_type": "code",
   "execution_count": 1,
   "id": "42626e94-1099-43dd-98c7-b414697c5b55",
   "metadata": {},
   "outputs": [
    {
     "name": "stdout",
     "output_type": "stream",
     "text": [
      "SE NECESITAN  2186  IMAGENES DE GALAXIAS ELIPTICAS\n",
      "SE NECESITAN  8981  IMAGENES DE GALAXIAS ESPIRALES\n",
      "SE NECESITAN  14798  IMAGENES DE GALAXIAS IRREGULARES\n"
     ]
    }
   ],
   "source": [
    "print(\"SE NECESITAN \",17295 - 15109,\" IMAGENES DE GALAXIAS ELIPTICAS\")\n",
    "print(\"SE NECESITAN \",17295 - 8314,\" IMAGENES DE GALAXIAS ESPIRALES\")\n",
    "print(\"SE NECESITAN \",17295 - 2497,\" IMAGENES DE GALAXIAS IRREGULARES\")"
   ]
  },
  {
   "cell_type": "code",
   "execution_count": 2,
   "id": "ce832a3a-e817-4c86-8204-bbee78957a86",
   "metadata": {},
   "outputs": [
    {
     "data": {
      "text/plain": [
       "10386"
      ]
     },
     "execution_count": 2,
     "metadata": {},
     "output_type": "execute_result"
    }
   ],
   "source": [
    "12106-1720"
   ]
  },
  {
   "cell_type": "markdown",
   "id": "079fb28f-3a23-49b7-a96f-85e34e2f0031",
   "metadata": {
    "jp-MarkdownHeadingCollapsed": true
   },
   "source": [
    "## REGRESAR LA DATA A LA CARPETA ORIGINAL (100%)"
   ]
  },
  {
   "cell_type": "raw",
   "id": "ff8394c7-d7c2-406b-b2b4-004b7b476a32",
   "metadata": {},
   "source": [
    "import os\n",
    "import shutil\n",
    "\n",
    "# Directorios originales y de destino\n",
    "base_dir = \"training set\"\n",
    "split_dirs = [\"train\", \"valid\", \"test\"]\n",
    "\n",
    "# Obtener clases desde una de las carpetas (train, valid o test)\n",
    "categories = [d for d in os.listdir(split_dirs[0]) if os.path.isdir(os.path.join(split_dirs[0], d))]\n",
    "\n",
    "# Asegurar que las carpetas originales existen\n",
    "for category in categories:\n",
    "    os.makedirs(os.path.join(base_dir, category), exist_ok=True)\n",
    "\n",
    "# Función para mover imágenes de vuelta a 'training set'\n",
    "def move_back(src_folder):\n",
    "    for category in categories:\n",
    "        src_path = os.path.join(src_folder, category)\n",
    "        if os.path.exists(src_path):\n",
    "            images = os.listdir(src_path)\n",
    "            for img in images:\n",
    "                src_img_path = os.path.join(src_path, img)\n",
    "                dst_img_path = os.path.join(base_dir, category, img)\n",
    "                shutil.move(src_img_path, dst_img_path)\n",
    "            print(f\"✔ Movidas {len(images)} imágenes de {src_folder}/{category} a {base_dir}/{category}\")\n",
    "\n",
    "# Mover imágenes de train, valid y test de vuelta a training set\n",
    "for folder in split_dirs:\n",
    "    move_back(folder)\n",
    "\n",
    "# Eliminar las carpetas vacías de train, valid y test\n",
    "for folder in split_dirs:\n",
    "    shutil.rmtree(folder)\n",
    "\n",
    "print(\"✅ Restauración completada: todas las imágenes están de vuelta en 'training set'.\")\n"
   ]
  },
  {
   "cell_type": "markdown",
   "id": "99584a47-c1f7-4f34-beb5-3fa861be3c4a",
   "metadata": {},
   "source": [
    "## DIVIDIR LA DATA EN 3 CARPETAS (BRUNO, FIORELLA Y JEREMY)"
   ]
  },
  {
   "cell_type": "code",
   "execution_count": 5,
   "id": "706c932b-8520-470b-89e0-11d9c0fd9082",
   "metadata": {},
   "outputs": [
    {
     "name": "stdout",
     "output_type": "stream",
     "text": [
      "✅ División completada.\n"
     ]
    }
   ],
   "source": [
    "import os\n",
    "import shutil\n",
    "import random\n",
    "\n",
    "# Definir los nombres de los nuevos conjuntos\n",
    "personas = [\"bruno\", \"fiorella\", \"jeremy\"]\n",
    "datasets = [\"training_set\", \"val_set\", \"test\"]\n",
    "categorias = [\"elliptical\", \"sphere\", \"espiral\", \"irregular\"]\n",
    "\n",
    "\n",
    "# Función para dividir imágenes en 3 partes\n",
    "def dividir_imagenes(origen, destino_base):\n",
    "    if not os.path.exists(origen):\n",
    "        print(f\"❌ ERROR: La carpeta '{origen}' no existe.\")\n",
    "    for categoria in categorias:\n",
    "        ruta_categoria = os.path.join(origen, categoria)\n",
    "        imagenes = os.listdir(ruta_categoria)\n",
    "        random.shuffle(imagenes)  # Mezclar aleatoriamente\n",
    "        \n",
    "        # Dividir en 3 partes\n",
    "        tam_parte = len(imagenes) // 3\n",
    "        partes = [imagenes[:tam_parte], imagenes[tam_parte:2*tam_parte], imagenes[2*tam_parte:]]\n",
    "        \n",
    "        # Crear carpetas para cada persona y mover imágenes\n",
    "        for i, persona in enumerate(personas):\n",
    "            destino = os.path.join(destino_base, persona, os.path.basename(origen), categoria)\n",
    "            os.makedirs(destino, exist_ok=True)\n",
    "            \n",
    "            for img in partes[i]:\n",
    "                shutil.copy(os.path.join(ruta_categoria, img), os.path.join(destino, img))\n",
    "\n",
    "# Aplicar la función a cada dataset\n",
    "for dataset in datasets:\n",
    "    dividir_imagenes(dataset, \"./\")  # \"./\" indica que se crea en el mismo directorio de trabajo\n",
    "\n",
    "print(\"✅ División completada.\")\n"
   ]
  },
  {
   "cell_type": "markdown",
   "id": "be690b8c-61b4-4c70-95e6-2f86ec887d44",
   "metadata": {},
   "source": [
    "## DATA CORREGIDA (20/02/2025)"
   ]
  },
  {
   "cell_type": "code",
   "execution_count": 5,
   "id": "f125c4a4-cd4b-4949-9ad1-3539d68b59ca",
   "metadata": {},
   "outputs": [
    {
     "name": "stdout",
     "output_type": "stream",
     "text": [
      "Copia creada: training_set_corregido\n",
      "Copia creada: test_corregido\n",
      "Copia creada: val_set_corregido\n",
      "✅ ¡Copias completadas!\n"
     ]
    }
   ],
   "source": [
    "import os\n",
    "import shutil\n",
    "\n",
    "carpetas_originales = [\"training_set\", \"test\", \"val_set\"]\n",
    "carpetas_corregidas = [\"training_set_corregido\", \"test_corregido\", \"val_set_corregido\"]\n",
    "\n",
    "for original, corregido in zip(carpetas_originales, carpetas_corregidas):\n",
    "    if os.path.exists(original):  \n",
    "        shutil.copytree(original, corregido)\n",
    "        print(f\"Copia creada: {corregido}\")\n",
    "    else:\n",
    "        print(f\"La carpeta {original} no existe en el directorio actual.\")\n",
    "\n",
    "print(\"✅ ¡Copias completadas!\")\n"
   ]
  }
 ],
 "metadata": {
  "kernelspec": {
   "display_name": "Python 3 (ipykernel)",
   "language": "python",
   "name": "python3"
  },
  "language_info": {
   "codemirror_mode": {
    "name": "ipython",
    "version": 3
   },
   "file_extension": ".py",
   "mimetype": "text/x-python",
   "name": "python",
   "nbconvert_exporter": "python",
   "pygments_lexer": "ipython3",
   "version": "3.11.7"
  }
 },
 "nbformat": 4,
 "nbformat_minor": 5
}
