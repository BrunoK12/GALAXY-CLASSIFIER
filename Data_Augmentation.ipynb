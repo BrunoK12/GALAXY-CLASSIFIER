{
 "cells": [
  {
   "cell_type": "markdown",
   "metadata": {},
   "source": [
    "# AUGMENTOR"
   ]
  },
  {
   "cell_type": "code",
   "execution_count": 19,
   "metadata": {
    "collapsed": false,
    "jupyter": {
     "outputs_hidden": false
    }
   },
   "outputs": [
    {
     "name": "stdout",
     "output_type": "stream",
     "text": [
      "Initialised with 1720 image(s) found.\n",
      "Output directory set to C:\\Users\\PC\\OneDrive\\Escritorio\\PUCP\\2025-0\\DEEP LEARNING\\PROYECTO\\MODELO\\Galaxy Classifier\\training_set_corregido\\irregular\\output."
     ]
    },
    {
     "name": "stderr",
     "output_type": "stream",
     "text": [
      "Processing <PIL.Image.Image image mode=RGB size=128x128 at 0x1A1F6B95210>: 100%|█| 10386/10386 [01:11<00:00, 144.84 Sam\n"
     ]
    }
   ],
   "source": [
    "import Augmentor\n",
    "import warnings\n",
    "import os\n",
    "warnings.filterwarnings('ignore')\n",
    "\n",
    "p = Augmentor.Pipeline(r\"C:\\Users\\PC\\OneDrive\\Escritorio\\PUCP\\2025-0\\DEEP LEARNING\\PROYECTO\\MODELO\\Galaxy Classifier\\training_set_corregido\\irregular\")\n",
    "p.rotate(probability=1.0, max_left_rotation=25, max_right_rotation=25)\n",
    "p.rotate90(probability=0.5)\n",
    "p.rotate270(probability=0.5)\n",
    "p.flip_left_right(probability=1.0)\n",
    "p.flip_top_bottom(probability=0.1)\n",
    "p.zoom(probability=0.5, min_factor=0.9, max_factor=1.1)\n",
    "p.random_contrast(probability=0.5, min_factor=0.8, max_factor=1.2)\n",
    "p.random_brightness(probability=0.5, min_factor=0.8, max_factor=1.2)\n",
    "p.resize(probability=1.0, width=128, height=128)\n",
    "p.sample(10386)  \n"
   ]
  },
  {
   "cell_type": "code",
   "execution_count": null,
   "metadata": {},
   "outputs": [],
   "source": []
  }
 ],
 "metadata": {
  "anaconda-cloud": {},
  "kernelspec": {
   "display_name": "Python 3 (ipykernel)",
   "language": "python",
   "name": "python3"
  },
  "language_info": {
   "codemirror_mode": {
    "name": "ipython",
    "version": 3
   },
   "file_extension": ".py",
   "mimetype": "text/x-python",
   "name": "python",
   "nbconvert_exporter": "python",
   "pygments_lexer": "ipython3",
   "version": "3.11.7"
  }
 },
 "nbformat": 4,
 "nbformat_minor": 4
}
